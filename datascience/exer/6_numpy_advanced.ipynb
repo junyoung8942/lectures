{
 "cells": [
  {
   "cell_type": "code",
   "execution_count": 3,
   "metadata": {},
   "outputs": [],
   "source": [
    "# Universal Functions : 대부분 더 효율적\n",
    "# 백터화 연산 함수 (numpy.ufunc)\n",
    "\n",
    "import numpy as np\n",
    "\n",
    "def compute_reciprocals(values) :\n",
    "    output = np.empty(len(values))\n",
    "    for i in range(len(values)) :\n",
    "        output[i] = 1.0 / values[i]\n",
    "    return output"
   ]
  },
  {
   "cell_type": "code",
   "execution_count": 4,
   "metadata": {},
   "outputs": [
    {
     "name": "stdout",
     "output_type": "stream",
     "text": [
      "3.05 s ± 889 ms per loop (mean ± std. dev. of 7 runs, 1 loop each)\n"
     ]
    }
   ],
   "source": [
    "# Comparison : Loop vs ufuncs(vectorized)\n",
    "\n",
    "big_array = np.random.randint(1, 100, size = 1000000)\n",
    "\n",
    "# Looping on a big array\n",
    "\n",
    "# jupyter magic function : 평균시간 계산\n",
    "%timeit compute_reciprocals(big_array)"
   ]
  },
  {
   "cell_type": "code",
   "execution_count": 5,
   "metadata": {},
   "outputs": [
    {
     "name": "stdout",
     "output_type": "stream",
     "text": [
      "3.91 ms ± 398 µs per loop (mean ± std. dev. of 7 runs, 100 loops each)\n"
     ]
    }
   ],
   "source": [
    "# Vectorized operations\n",
    "%timeit 1 / big_array"
   ]
  },
  {
   "cell_type": "code",
   "execution_count": 8,
   "metadata": {},
   "outputs": [
    {
     "name": "stdout",
     "output_type": "stream",
     "text": [
      "[5 8 9 5 0] [0 1 7 6 9]\n",
      "[ 3  6  7  3 -2] [0 1 7 6 9]\n",
      "[  3   5   0  -3 -11]\n",
      "[[2 4 5 2 4]\n",
      " [2 4 7 7 9]\n",
      " [1 7 0 6 9]]\n",
      "[[ 4 16 25  4 16]\n",
      " [ 4 16 49 49 81]\n",
      " [ 1 49  0 36 81]]\n"
     ]
    }
   ],
   "source": [
    "# numpy.ufunc\n",
    "\n",
    "np.random.seed(1)\n",
    "arr1 = np.random.randint(10, size = 5)\n",
    "arr2 = np.random.randint(10, size = 5)\n",
    "print(arr1, arr2)\n",
    "\n",
    "arr1 = arr1 - 2\n",
    "print(arr1, arr2)\n",
    "\n",
    "arr3 = arr1 - arr2\n",
    "print(arr3)\n",
    "\n",
    "arr4 = np.random.randint(10, size=(3, 5))\n",
    "print(arr4)\n",
    "\n",
    "arr5 = arr4 ** 2\n",
    "print(arr5)"
   ]
  },
  {
   "cell_type": "code",
   "execution_count": 10,
   "metadata": {},
   "outputs": [
    {
     "name": "stdout",
     "output_type": "stream",
     "text": [
      "[2 1 0 1 2]\n",
      "[5. 5. 2. 1.]\n"
     ]
    }
   ],
   "source": [
    "# UFuncs : Absolute Value\n",
    "x = np.array([-2, -1, 0, 1, 2])\n",
    "print(np.abs(x))\n",
    "\n",
    "x = np.array([3-4j, 4-3j, 2+0j, 0+1j])\n",
    "print(np.abs(x))"
   ]
  },
  {
   "cell_type": "code",
   "execution_count": 20,
   "metadata": {},
   "outputs": [
    {
     "name": "stdout",
     "output_type": "stream",
     "text": [
      "[  0.  25.  50.  75. 100.]\n",
      "[0.         1.57079633 3.14159265]\n",
      "[0.0000000e+00 1.0000000e+00 1.2246468e-16]\n",
      "[ 1.000000e+00  6.123234e-17 -1.000000e+00]\n",
      "[ 0.00000000e+00  1.63312394e+16 -1.22464680e-16]\n"
     ]
    }
   ],
   "source": [
    "# np.linspace(start, stop, num) : 선형 간격의 벡터 생성\n",
    "x = np.linspace(0, 100, 5) # num만큼의 간격 개수로 나옴\n",
    "print(x)\n",
    "\n",
    "# 삼각함수 : np.sin(), np.cos(), np.tan()\n",
    "# 역삼각함수 : np.arcsin(), np.arccos(), np.arctan()\n",
    "theta = np.linspace(0, np.pi, 3)\n",
    "print(theta)\n",
    "print(np.sin(theta))\n",
    "print(np.cos(theta))\n",
    "print(np.tan(theta))"
   ]
  },
  {
   "cell_type": "code",
   "execution_count": 27,
   "metadata": {},
   "outputs": [
    {
     "name": "stdout",
     "output_type": "stream",
     "text": [
      "[1 2 3 4]\n",
      "10\n",
      "24\n",
      "[1 2 3 4]\n",
      "[ 1  3  6 10]\n",
      "[ 1  2  6 24]\n",
      "sum =  500422.19897015305\n"
     ]
    }
   ],
   "source": [
    "# reduce() : 배열을 특정연산으로 축소\n",
    "x = np.arange(1, 5)\n",
    "print(x)\n",
    "aggr = np.add.reduce(x)\n",
    "print(aggr)\n",
    "aggr = np.multiply.reduce(x)\n",
    "print(aggr)\n",
    "\n",
    "# accumulate() : 계산의 중간 결과들을 배열로 저장\n",
    "x = np.arange(1, 5)\n",
    "print(x)\n",
    "accum = np.add.accumulate(x)\n",
    "print(accum)\n",
    "accum = np.multiply.accumulate(x)\n",
    "print(accum)\n",
    "\n",
    "# sum() : 원소들의 합 (기본 sum()보다 훨씬 빠름)\n",
    "np.random.seed(3)\n",
    "arr = np.random.rand(1000000) # rand() : create 0 ~ 1 real numbers\n",
    "print('sum = ', np.sum(arr))"
   ]
  },
  {
   "cell_type": "code",
   "execution_count": 37,
   "metadata": {},
   "outputs": [
    {
     "name": "stdout",
     "output_type": "stream",
     "text": [
      "[[ 0  1  2  3]\n",
      " [ 4  5  6  7]\n",
      " [ 8  9 10 11]]\n",
      "66\n",
      "[12 15 18 21]\n",
      "[ 6 22 38]\n"
     ]
    }
   ],
   "source": [
    "# 다차원 집계, axis 속성\n",
    "arr = np.arange(0, 12).reshape(3,4)\n",
    "print(arr)\n",
    "print(np.sum(arr))\n",
    "print(np.sum(arr, axis = 0))\n",
    "print(np.sum(arr, axis = 1))"
   ]
  },
  {
   "cell_type": "code",
   "execution_count": null,
   "metadata": {},
   "outputs": [],
   "source": []
  }
 ],
 "metadata": {
  "kernelspec": {
   "display_name": "Python 3",
   "language": "python",
   "name": "python3"
  },
  "language_info": {
   "codemirror_mode": {
    "name": "ipython",
    "version": 3
   },
   "file_extension": ".py",
   "mimetype": "text/x-python",
   "name": "python",
   "nbconvert_exporter": "python",
   "pygments_lexer": "ipython3",
   "version": "3.8.5"
  }
 },
 "nbformat": 4,
 "nbformat_minor": 4
}
