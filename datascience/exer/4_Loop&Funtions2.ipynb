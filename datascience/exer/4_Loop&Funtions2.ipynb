{
 "cells": [
  {
   "cell_type": "code",
   "execution_count": 4,
   "metadata": {},
   "outputs": [
    {
     "name": "stdout",
     "output_type": "stream",
     "text": [
      "4\n",
      "3\n"
     ]
    }
   ],
   "source": [
    "# Function\n",
    "\n",
    "def my_function(x) :\n",
    "    return x + 1\n",
    "y = 3\n",
    "print(my_function(y))\n",
    "\n",
    "# Method : 클래스 내에 정의된 함수\n",
    "\n",
    "class my_class :\n",
    "    def my_method(self) :\n",
    "        return x + 1\n",
    "cls = my_class()\n",
    "x = 2\n",
    "print(cls.my_method())"
   ]
  },
  {
   "cell_type": "code",
   "execution_count": 5,
   "metadata": {},
   "outputs": [
    {
     "name": "stdout",
     "output_type": "stream",
     "text": [
      "2020is a leap year.\n"
     ]
    }
   ],
   "source": [
    "# Return keyword\n",
    "\n",
    "def check_leap_year(year) :\n",
    "    if year % 4 == 0 :\n",
    "        return str(year) + \"is a leap year.\"\n",
    "    else :\n",
    "        return str(year) + \"is a not leap year.\"\n",
    "\n",
    "result = check_leap_year(2020)\n",
    "print(result)"
   ]
  },
  {
   "cell_type": "code",
   "execution_count": 7,
   "metadata": {},
   "outputs": [
    {
     "name": "stdout",
     "output_type": "stream",
     "text": [
      "9 16 25\n"
     ]
    }
   ],
   "source": [
    "# Returning multiple values\n",
    "\n",
    "def square_point(x, y, z) :\n",
    "    x_squared = x ** 2\n",
    "    y_squared = y ** 2\n",
    "    z_squared = z ** 2\n",
    "    return x_squared, y_squared, z_squared\n",
    "\n",
    "three_squared, four_squared, five_squared = square_point(3,4,5)\n",
    "print(three_squared, four_squared, five_squared)"
   ]
  },
  {
   "cell_type": "code",
   "execution_count": 8,
   "metadata": {},
   "outputs": [
    {
     "name": "stdout",
     "output_type": "stream",
     "text": [
      "Hello\n"
     ]
    }
   ],
   "source": [
    "# Global Variables\n",
    "\n",
    "a = \"Hello\"\n",
    "\n",
    "def prints_a():\n",
    "    print(a)\n",
    "prints_a()"
   ]
  },
  {
   "cell_type": "code",
   "execution_count": 11,
   "metadata": {},
   "outputs": [
    {
     "name": "stdout",
     "output_type": "stream",
     "text": [
      "5\n",
      "5\n"
     ]
    }
   ],
   "source": [
    "# Local Variables\n",
    "a = 5\n",
    "def f1():\n",
    "    a = 2\n",
    "f1()\n",
    "print(a)"
   ]
  },
  {
   "cell_type": "code",
   "execution_count": 13,
   "metadata": {},
   "outputs": [
    {
     "name": "stdout",
     "output_type": "stream",
     "text": [
      "Height = 1\n",
      "Width = 2\n",
      "Depth = 3\n",
      "6\n",
      "Height = 1\n",
      "Width = 2\n",
      "Depth = 3\n",
      "6\n"
     ]
    }
   ],
   "source": [
    "# Keyword Arguments and Default Values\n",
    "\n",
    "def findvolume(height, width, depth) :\n",
    "    print(\"Height = \" + str(height)) # str() : 어떤 값을 문자열 값으로 반환\n",
    "    print(\"Width = \" + str(width))\n",
    "    print(\"Depth = \" + str(depth))\n",
    "    return height * width * depth\n",
    "print(findvolume(1,2,3))\n",
    "print(findvolume(width=2, depth=3, height=1))"
   ]
  },
  {
   "cell_type": "code",
   "execution_count": null,
   "metadata": {},
   "outputs": [],
   "source": []
  }
 ],
 "metadata": {
  "kernelspec": {
   "display_name": "Python 3",
   "language": "python",
   "name": "python3"
  },
  "language_info": {
   "codemirror_mode": {
    "name": "ipython",
    "version": 3
   },
   "file_extension": ".py",
   "mimetype": "text/x-python",
   "name": "python",
   "nbconvert_exporter": "python",
   "pygments_lexer": "ipython3",
   "version": "3.8.5"
  }
 },
 "nbformat": 4,
 "nbformat_minor": 4
}
