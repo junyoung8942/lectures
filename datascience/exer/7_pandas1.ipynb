{
 "cells": [
  {
   "cell_type": "code",
   "execution_count": 1,
   "metadata": {},
   "outputs": [],
   "source": [
    "# numpy : 수치연산\n",
    "# pandas : 데이터 분석 및 조작\n",
    "# 금융 데이터의 계량적 분석을 위해 개발"
   ]
  },
  {
   "cell_type": "code",
   "execution_count": 30,
   "metadata": {},
   "outputs": [],
   "source": [
    "import pandas as pd\n",
    "import numpy as np\n",
    "\n",
    "# help문서 \n",
    "# pd?"
   ]
  },
  {
   "cell_type": "code",
   "execution_count": 9,
   "metadata": {},
   "outputs": [
    {
     "name": "stdout",
     "output_type": "stream",
     "text": [
      "0    0.25\n",
      "1    0.50\n",
      "2    0.75\n",
      "3    1.00\n",
      "dtype: float64 \n",
      "\n",
      "0    0.25\n",
      "1    0.50\n",
      "dtype: float64\n"
     ]
    }
   ],
   "source": [
    "# Create a series from an array\n",
    "ser = pd.Series([0.25, 0.5, 0.75, 1.0]) # constructor method\n",
    "print(ser,'\\n')\n",
    "print(ser[:2])"
   ]
  },
  {
   "cell_type": "code",
   "execution_count": 12,
   "metadata": {},
   "outputs": [
    {
     "name": "stdout",
     "output_type": "stream",
     "text": [
      "[0.25 0.5  0.75 1.  ]\n",
      "RangeIndex(start=0, stop=4, step=1)\n",
      "[0 1 2 3]\n"
     ]
    }
   ],
   "source": [
    "# values : Pandas 객체의 값들을 numpy배열로 변환\n",
    "arr = ser.values\n",
    "print(arr)\n",
    "\n",
    "# index : 인덱스 값들을 반환\n",
    "ind = ser.index\n",
    "print(ind)\n",
    "print(ind.values)"
   ]
  },
  {
   "cell_type": "code",
   "execution_count": 14,
   "metadata": {},
   "outputs": [
    {
     "name": "stdout",
     "output_type": "stream",
     "text": [
      "a    0.25\n",
      "b    0.50\n",
      "c    0.75\n",
      "d    1.00\n",
      "dtype: float64\n",
      "0.25\n"
     ]
    }
   ],
   "source": [
    "# Pansdas 는 명시적으로 indexing 가능\n",
    "# defalut: 0, 1, 2, ...\n",
    "ser = pd.Series([0.25, 0.5, 0.75, 1.0], index=['a','b','c','d'])\n",
    "print(ser)\n",
    "print(ser['a'])"
   ]
  },
  {
   "cell_type": "code",
   "execution_count": 16,
   "metadata": {},
   "outputs": [
    {
     "name": "stdout",
     "output_type": "stream",
     "text": [
      "{'California': 38332521, 'Texas': 26448193, 'New York': 19651127, 'Florida': 19552860, 'Illinois': 12882138}\n",
      "California    38332521\n",
      "Texas         26448193\n",
      "New York      19651127\n",
      "dtype: int64\n"
     ]
    }
   ],
   "source": [
    "# dictionary : <key : value>로 구성되는 파이썬 기본 자료구조\n",
    "# series : pandas 형식으로 만들어줌\n",
    "population_dict = {'California' : 38332521, \n",
    "                   'Texas' : 26448193, \n",
    "                   'New York' : 19651127, \n",
    "                   'Florida' : 19552860, \n",
    "                   'Illinois' : 12882138}\n",
    "print(population_dict)\n",
    "\n",
    "population = pd.Series(population_dict)\n",
    "print(population['California':'New York'])"
   ]
  },
  {
   "cell_type": "code",
   "execution_count": 50,
   "metadata": {},
   "outputs": [
    {
     "name": "stdout",
     "output_type": "stream",
     "text": [
      "California    423967\n",
      "Texas         695662\n",
      "New York      141297\n",
      "Florida       170312\n",
      "Illinois      149995\n",
      "dtype: int64\n",
      "            population    area\n",
      "California    38332521  423967\n",
      "Texas         26448193  695662\n",
      "New York      19651127  141297\n",
      "Florida       19552860  170312\n",
      "Illinois      12882138  149995\n",
      "Index(['California', 'Texas', 'New York', 'Florida', 'Illinois'], dtype='object') \n",
      "\n",
      "Index(['population', 'area'], dtype='object') \n",
      "\n",
      "California    423967\n",
      "Texas         695662\n",
      "New York      141297\n",
      "Florida       170312\n",
      "Illinois      149995\n",
      "Name: area, dtype: int64\n"
     ]
    }
   ],
   "source": [
    "# dataframe : 인덱싱된 2차원 배열\n",
    "area_dict = {'California': 423967,'Texas': 695662, 'New York': 141297, \n",
    "             'Florida': 170312, 'Illinois': 149995}\n",
    "area = pd.Series(area_dict)\n",
    "print(area)\n",
    "\n",
    "# 2차원 형태로 만들기\n",
    "states = pd.DataFrame({'population':population, 'area':area})\n",
    "print(states)\n",
    "print(states.index, '\\n')\n",
    "#colums\n",
    "print(states.columns, '\\n')\n",
    "print(states['area'])"
   ]
  },
  {
   "cell_type": "code",
   "execution_count": 39,
   "metadata": {},
   "outputs": [
    {
     "name": "stdout",
     "output_type": "stream",
     "text": [
      "[[0.00361762 0.66387698]\n",
      " [0.97753618 0.20951464]\n",
      " [0.05063321 0.9049553 ]] \n",
      "\n",
      "        foo       bar\n",
      "a  0.003618  0.663877\n",
      "b  0.977536  0.209515\n",
      "c  0.050633  0.904955\n"
     ]
    }
   ],
   "source": [
    "# numpy배열을 pandas dataframe으로\n",
    "arr = np.random.rand(3, 2)\n",
    "print(arr,'\\n')\n",
    "df = pd.DataFrame(arr, columns=['foo', 'bar'], index=[\"a\",\"b\",\"c\"])\n",
    "print(df)                        "
   ]
  },
  {
   "cell_type": "code",
   "execution_count": 54,
   "metadata": {},
   "outputs": [
    {
     "name": "stdout",
     "output_type": "stream",
     "text": [
      "a    0.25\n",
      "b    0.50\n",
      "c    0.75\n",
      "d    1.00\n",
      "dtype: float64 \n",
      "\n",
      "True\n",
      "False\n",
      "Index(['a', 'b', 'c', 'd'], dtype='object')\n"
     ]
    }
   ],
   "source": [
    "ser = pd.Series([0.25,0.5,0.75,1.0], index=['a','b','c','d'])\n",
    "print(ser, '\\n')\n",
    "\n",
    "print('a' in ser)\n",
    "print(0.25 in ser)\n",
    "print(ser.index)"
   ]
  },
  {
   "cell_type": "code",
   "execution_count": 53,
   "metadata": {},
   "outputs": [
    {
     "name": "stdout",
     "output_type": "stream",
     "text": [
      "a    0.125\n",
      "b    0.500\n",
      "c    0.750\n",
      "d    1.000\n",
      "e    1.250\n",
      "dtype: float64\n"
     ]
    }
   ],
   "source": [
    "# 추가와 수정\n",
    "ser.keys() # get the all keys(= indices)\n",
    "ser['e'] = 1.25 # add a new value\n",
    "ser['a'] = 0.125 # reassignment\n",
    "print(ser)"
   ]
  },
  {
   "cell_type": "code",
   "execution_count": 52,
   "metadata": {},
   "outputs": [
    {
     "name": "stdout",
     "output_type": "stream",
     "text": [
      "            population    area     density\n",
      "California    38332521  423967   90.413926\n",
      "Texas         26448193  695662   38.018740\n",
      "New York      19651127  141297  139.076746\n",
      "Florida       19552860  170312  114.806121\n",
      "Illinois      12882138  149995   85.883783\n"
     ]
    }
   ],
   "source": [
    "# dataframe 조작\n",
    "states['density'] = states['population'] / states['area']\n",
    "print(states)"
   ]
  },
  {
   "cell_type": "code",
   "execution_count": 66,
   "metadata": {},
   "outputs": [
    {
     "name": "stdout",
     "output_type": "stream",
     "text": [
      "            population    area     density\n",
      "California    38332521  423967   90.413926\n",
      "Texas         26448193  695662   38.018740\n",
      "New York      19651127  141297  139.076746 \n",
      "\n",
      "            population    area     density\n",
      "California    38332521  423967   90.413926\n",
      "Texas         26448193  695662   38.018740\n",
      "New York      19651127  141297  139.076746 \n",
      "\n",
      "            population    area     density\n",
      "California    38332521  423967   90.413926\n",
      "Texas         26448193  695662   38.018740\n",
      "New York      19651127  141297  139.076746 \n",
      "\n",
      "          population     density\n",
      "New York    19651127  139.076746\n",
      "Florida     19552860  114.806121\n"
     ]
    }
   ],
   "source": [
    "# 인덱서 : pandas 객체의 명확한 인덱싱/슬라이싱을 지원하는 속성\n",
    "# loc : 명시적 인덱스를 참조하는 인덱싱/슬라이싱 수행\n",
    "# iloc : 암묵적 인덱스를 참조하는 인덱싱/슬라이싱 수행\n",
    "print(states.loc['California' : 'New York'], '\\n')\n",
    "print(states.iloc[0 : 3], '\\n')\n",
    "print(states.iloc[:3], '\\n')\n",
    "\n",
    "# loc : 마스킹 연산 + 팬시 인덱싱\n",
    "print(states.loc[states.density > 100, ['population', 'density']])"
   ]
  },
  {
   "cell_type": "code",
   "execution_count": null,
   "metadata": {},
   "outputs": [],
   "source": []
  }
 ],
 "metadata": {
  "kernelspec": {
   "display_name": "Python 3",
   "language": "python",
   "name": "python3"
  },
  "language_info": {
   "codemirror_mode": {
    "name": "ipython",
    "version": 3
   },
   "file_extension": ".py",
   "mimetype": "text/x-python",
   "name": "python",
   "nbconvert_exporter": "python",
   "pygments_lexer": "ipython3",
   "version": "3.8.5"
  }
 },
 "nbformat": 4,
 "nbformat_minor": 4
}
