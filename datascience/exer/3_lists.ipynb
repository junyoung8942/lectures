{
 "cells": [
  {
   "cell_type": "code",
   "execution_count": 9,
   "metadata": {},
   "outputs": [
    {
     "name": "stdout",
     "output_type": "stream",
     "text": [
      "[2, 3, 5, 7, 11, 2]\n",
      "[[1, 'Park'], [10.3, 'Kim']]\n"
     ]
    }
   ],
   "source": [
    "# list\n",
    "primes = [2, 3, 5, 7, 11, 2]\n",
    "print(primes)\n",
    "\n",
    "empty_list = [[1, \"Park\"], [10.3, \"Kim\"]]\n",
    "print(empty_list)\n"
   ]
  },
  {
   "cell_type": "code",
   "execution_count": 11,
   "metadata": {},
   "outputs": [
    {
     "name": "stdout",
     "output_type": "stream",
     "text": [
      "Roger\n",
      "Rafael\n",
      "Andy\n",
      "Novak\n",
      "Novak\n",
      "Andy\n",
      "Rafael\n",
      "Roger\n"
     ]
    }
   ],
   "source": [
    "# list-indexing\n",
    "names = [\"Roger\", \"Rafael\", \"Andy\", \"Novak\"]\n",
    "print(names[0])\n",
    "print(names[1])\n",
    "print(names[2])\n",
    "print(names[3])\n",
    "# negative-index\n",
    "print(names[-1])\n",
    "print(names[-2])\n",
    "print(names[-3])\n",
    "print(names[-4])"
   ]
  },
  {
   "cell_type": "code",
   "execution_count": 13,
   "metadata": {},
   "outputs": [
    {
     "name": "stdout",
     "output_type": "stream",
     "text": [
      "['상활관', '장공관', '필헌관', '소통관', '송암관', '늦봄관', '장준하통일관']\n",
      "['장공관', '필헌관', '소통관']\n"
     ]
    }
   ],
   "source": [
    "# list-slice\n",
    "hsu_buildings = [\"만우관\", \"장공관\", \"필헌관\", \"소통관\", \"송암관\", \"늦봄관\", \"장준하통일관\"]\n",
    "building_slice = hsu_buildings[1:4]\n",
    "hsu_buildings[0] = \"상활관\"\n",
    "\n",
    "print(hsu_buildings)\n",
    "print(building_slice)"
   ]
  },
  {
   "cell_type": "code",
   "execution_count": 16,
   "metadata": {},
   "outputs": [
    {
     "name": "stdout",
     "output_type": "stream",
     "text": [
      "[['해우리', '한식', '고S'], ['짜장명가', '중식', '중화비빔밥'], ['찌개동아리', '한식', '제육전골'], ['맘스터치', '양식', '싸이버거']]\n",
      "['해우리', '한식', '해우라면']\n"
     ]
    }
   ],
   "source": [
    "# 2D-list\n",
    "restaurants=[['해우리', '한식', '고S'], ['짜장명가', '중식', '중화비빔밥'], ['찌개동아리', '한식', '제육전골'], ['맘스터치', '양식', '싸이버거']]\n",
    "print(restaurants)\n",
    "\n",
    "restaurants[0][2]='해우라면'   \n",
    "print(restaurants[0])"
   ]
  },
  {
   "cell_type": "code",
   "execution_count": 17,
   "metadata": {},
   "outputs": [
    {
     "name": "stdout",
     "output_type": "stream",
     "text": [
      "['cake', 'cookie', 'bread', 'biscuit', 'tart']\n"
     ]
    }
   ],
   "source": [
    "# add-list\n",
    "item_one=['cake', 'cookie', 'bread']\n",
    "item_two=['biscuit', 'tart']\n",
    "\n",
    "total_items = item_one + item_two\n",
    "print(total_items)"
   ]
  },
  {
   "cell_type": "code",
   "execution_count": 4,
   "metadata": {},
   "outputs": [
    {
     "name": "stdout",
     "output_type": "stream",
     "text": [
      "5\n",
      "['C Programming', 'Calculus', 'Data Structures', 'Machine Learning']\n",
      "['C Programming', 'Calculus', 'Data Structures']\n",
      "['C Programming', 'Data Structures']\n",
      "['늦봄관', '만우관', '소통관', '송암관', '장공관', '장준하통일관', '필헌관']\n",
      "[1, 3, 5, 6]\n"
     ]
    }
   ],
   "source": [
    "# list-method len(), count() // 특정 아이템의 개수를 리턴\n",
    "knapsack = [2, 4, 3, 7, 10]\n",
    "size = len(knapsack)\n",
    "print(size)\n",
    "\n",
    "# list-method append(item), insert(index, item), pop(index), remove(item), sort(), sorted(list)\n",
    "sw_subjects = ['C Programming', 'Calculus', 'Data Engineering', 'Data Structures', 'Machine Learning']\n",
    "\n",
    "sw_subjects.pop(2)\n",
    "print(sw_subjects)\n",
    "sw_subjects.pop() # last data pop\n",
    "print(sw_subjects)\n",
    "\n",
    "sw_subjects.remove('Calculus') \n",
    "print(sw_subjects)\n",
    "# sw_subjects.remove('Algorithms') -> ValueError: list.remove(x): x not in list\n",
    "\n",
    "hsu_buildings = [\"만우관\", \"장공관\", \"필헌관\", \"소통관\", \"송암관\", \"늦봄관\", \"장준하통일관\"]\n",
    "hsu_buildings.sort()\n",
    "print(hsu_buildings)\n",
    "\n",
    "number = [1, 5, 3, 6]\n",
    "sorted_number = sorted(number)\n",
    "print(sorted_number)"
   ]
  },
  {
   "cell_type": "code",
   "execution_count": null,
   "metadata": {},
   "outputs": [],
   "source": []
  }
 ],
 "metadata": {
  "kernelspec": {
   "display_name": "Python 3",
   "language": "python",
   "name": "python3"
  },
  "language_info": {
   "codemirror_mode": {
    "name": "ipython",
    "version": 3
   },
   "file_extension": ".py",
   "mimetype": "text/x-python",
   "name": "python",
   "nbconvert_exporter": "python",
   "pygments_lexer": "ipython3",
   "version": "3.8.5"
  }
 },
 "nbformat": 4,
 "nbformat_minor": 4
}
