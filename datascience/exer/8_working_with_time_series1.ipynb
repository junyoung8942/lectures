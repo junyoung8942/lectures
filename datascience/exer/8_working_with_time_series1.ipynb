{
 "cells": [
  {
   "cell_type": "code",
   "execution_count": 2,
   "metadata": {},
   "outputs": [
    {
     "name": "stdout",
     "output_type": "stream",
     "text": [
      "2021-10-27 00:00:00\n",
      "<class 'datetime.datetime'>\n"
     ]
    }
   ],
   "source": [
    "from datetime import datetime\n",
    "\n",
    "t = datetime(year=2021, month=10, day=27)\n",
    "print(t)\n",
    "print(type(t))"
   ]
  },
  {
   "cell_type": "code",
   "execution_count": 13,
   "metadata": {},
   "outputs": [
    {
     "name": "stdout",
     "output_type": "stream",
     "text": [
      "2021-10-27 00:00:00\n"
     ]
    },
    {
     "data": {
      "text/plain": [
       "'Wednesday'"
      ]
     },
     "execution_count": 13,
     "metadata": {},
     "output_type": "execute_result"
    }
   ],
   "source": [
    "from dateutil import parser\n",
    "date = parser.parse('27th of October, 2021')\n",
    "print(date)\n",
    "date.strftime('%A') # 요일 출력 (string for time)"
   ]
  },
  {
   "cell_type": "code",
   "execution_count": 5,
   "metadata": {},
   "outputs": [
    {
     "name": "stdout",
     "output_type": "stream",
     "text": [
      "<class 'numpy.datetime64'>\n",
      "2021-10-28\n"
     ]
    }
   ],
   "source": [
    "import numpy as np\n",
    "dates = np.array(['2021-10-27', '2021-10-28'], dtype=np.datetime64)\n",
    "print(type(dates[0]))\n",
    "\n",
    "date = np.datetime64('2021-10-28')\n",
    "print(date)"
   ]
  },
  {
   "cell_type": "code",
   "execution_count": 7,
   "metadata": {},
   "outputs": [
    {
     "data": {
      "text/plain": [
       "array(['2021-10-28', '2021-10-29', '2021-10-30', '2021-10-31',\n",
       "       '2021-11-01', '2021-11-02', '2021-11-03'], dtype='datetime64[D]')"
      ]
     },
     "execution_count": 7,
     "metadata": {},
     "output_type": "execute_result"
    }
   ],
   "source": [
    "date + np.arange(7) # [0, 1, .., 6]"
   ]
  },
  {
   "cell_type": "code",
   "execution_count": 10,
   "metadata": {},
   "outputs": [
    {
     "name": "stdout",
     "output_type": "stream",
     "text": [
      "2021-10-28T11:38 \n",
      "\n",
      "2021-10-28T11:39:10.200000000\n"
     ]
    }
   ],
   "source": [
    "t = np.datetime64('2021-10-28 11:38')\n",
    "print(t, '\\n')\n",
    "\n",
    "t = np.datetime64('2021-10-28 11:39:10.20', 'ns')\n",
    "print(t)"
   ]
  },
  {
   "cell_type": "code",
   "execution_count": 12,
   "metadata": {},
   "outputs": [
    {
     "name": "stdout",
     "output_type": "stream",
     "text": [
      "2021-10-27 00:00:00\n"
     ]
    },
    {
     "data": {
      "text/plain": [
       "'Wednesday'"
      ]
     },
     "execution_count": 12,
     "metadata": {},
     "output_type": "execute_result"
    }
   ],
   "source": [
    "# 시계열 처리에서 pandas를 많이 사용함\n",
    "import pandas as pd\n",
    "\n",
    "date = pd.to_datetime('27th of October, 2021')\n",
    "print(date)\n",
    "\n",
    "date.strftime('%A')"
   ]
  },
  {
   "cell_type": "code",
   "execution_count": 14,
   "metadata": {},
   "outputs": [
    {
     "data": {
      "text/plain": [
       "DatetimeIndex([          '2021-10-27 00:00:00',\n",
       "               '2021-10-27 00:00:00.000000001',\n",
       "               '2021-10-27 00:00:00.000000002',\n",
       "               '2021-10-27 00:00:00.000000003',\n",
       "               '2021-10-27 00:00:00.000000004',\n",
       "               '2021-10-27 00:00:00.000000005',\n",
       "               '2021-10-27 00:00:00.000000006'],\n",
       "              dtype='datetime64[ns]', freq=None)"
      ]
     },
     "execution_count": 14,
     "metadata": {},
     "output_type": "execute_result"
    }
   ],
   "source": [
    "# np와는 다름\n",
    "date + pd.to_timedelta(np.arange(7))"
   ]
  },
  {
   "cell_type": "code",
   "execution_count": 24,
   "metadata": {},
   "outputs": [
    {
     "name": "stdout",
     "output_type": "stream",
     "text": [
      "DatetimeIndex(['2021-10-27', '2021-10-28', '2021-10-29', '2021-10-30',\n",
      "               '2021-10-31', '2021-11-01', '2021-11-02'],\n",
      "              dtype='datetime64[ns]', freq=None)\n",
      "2021-10-27    0\n",
      "2021-10-28    1\n",
      "2021-10-29    2\n",
      "2021-10-30    3\n",
      "2021-10-31    4\n",
      "2021-11-01    5\n",
      "2021-11-02    6\n",
      "dtype: int64\n",
      "2021-10-27    0\n",
      "2021-10-28    1\n",
      "2021-10-29    2\n",
      "2021-10-30    3\n",
      "2021-10-31    4\n",
      "dtype: int64 \n",
      "\n",
      "2021-10-27    0\n",
      "2021-10-28    1\n",
      "2021-10-29    2\n",
      "2021-10-30    3\n",
      "2021-10-31    4\n",
      "dtype: int64 \n",
      "\n",
      "2021-11-01    5\n",
      "2021-11-02    6\n",
      "dtype: int64 \n",
      "\n",
      "2021-10-27    0\n",
      "2021-10-28    1\n",
      "2021-10-29    2\n",
      "2021-10-30    3\n",
      "2021-10-31    4\n",
      "2021-11-01    5\n",
      "2021-11-02    6\n",
      "dtype: int64 \n",
      "\n"
     ]
    }
   ],
   "source": [
    "# 시계열로 만들기\n",
    "ind = pd.DatetimeIndex(['2021-10-27', '2021-10-28', '2021-10-29', '2021-10-30', \n",
    "                       '2021-10-31', '2021-11-01', '2021-11-02'])\n",
    "print(ind)\n",
    "\n",
    "ser = pd.Series([0,1,2,3,4,5,6], index = ind)\n",
    "print(ser)\n",
    "\n",
    "# 인덱싱\n",
    "print(ser['2021-10-27' : '2021-10-31'], '\\n')\n",
    "print(ser['2021-10'], '\\n')\n",
    "print(ser['2021-11'], '\\n')\n",
    "print(ser['2021'], '\\n')"
   ]
  },
  {
   "cell_type": "code",
   "execution_count": 30,
   "metadata": {},
   "outputs": [
    {
     "name": "stdout",
     "output_type": "stream",
     "text": [
      "DatetimeIndex(['2015-07-03', '2015-07-04', '2015-07-07', '2015-07-08'], dtype='datetime64[ns]', freq=None)\n"
     ]
    }
   ],
   "source": [
    "# Timestamp and Datetime-index\n",
    "\n",
    "dates = pd.to_datetime([datetime(2015, 7, 3),\n",
    "                       '4th of July, 2015',\n",
    "                       '07-07-2015',\n",
    "                       '20150708'])\n",
    "print(dates)"
   ]
  },
  {
   "cell_type": "code",
   "execution_count": 29,
   "metadata": {},
   "outputs": [
    {
     "data": {
      "text/plain": [
       "PeriodIndex(['2015-06-29/2015-07-05', '2015-06-29/2015-07-05',\n",
       "             '2015-07-06/2015-07-12', '2015-07-06/2015-07-12'],\n",
       "            dtype='period[W-SUN]', freq='W-SUN')"
      ]
     },
     "execution_count": 29,
     "metadata": {},
     "output_type": "execute_result"
    }
   ],
   "source": [
    "# to_period() : DatetimeIndex -> PeriodIndex\n",
    "\n",
    "dates.to_period('W')"
   ]
  },
  {
   "cell_type": "code",
   "execution_count": 31,
   "metadata": {},
   "outputs": [
    {
     "data": {
      "text/plain": [
       "TimedeltaIndex(['0 days', '1 days', '4 days', '5 days'], dtype='timedelta64[ns]', freq=None)"
      ]
     },
     "execution_count": 31,
     "metadata": {},
     "output_type": "execute_result"
    }
   ],
   "source": [
    "# TimedeltaIndex : 타임스탬프간 뺄셈 연산을 통해 생성(=시간차)\n",
    "\n",
    "dates - dates[0]"
   ]
  },
  {
   "cell_type": "code",
   "execution_count": 39,
   "metadata": {},
   "outputs": [
    {
     "name": "stdout",
     "output_type": "stream",
     "text": [
      "DatetimeIndex(['2021-10-27', '2021-10-28', '2021-10-29', '2021-10-30',\n",
      "               '2021-10-31'],\n",
      "              dtype='datetime64[ns]', freq='D')\n",
      "DatetimeIndex(['2021-10-27', '2021-10-28', '2021-10-29', '2021-10-30',\n",
      "               '2021-10-31'],\n",
      "              dtype='datetime64[ns]', freq='D')\n",
      "DatetimeIndex(['2021-10-27 00:00:00', '2021-10-27 01:00:00',\n",
      "               '2021-10-27 02:00:00', '2021-10-27 03:00:00',\n",
      "               '2021-10-27 04:00:00', '2021-10-27 05:00:00',\n",
      "               '2021-10-27 06:00:00', '2021-10-27 07:00:00',\n",
      "               '2021-10-27 08:00:00', '2021-10-27 09:00:00',\n",
      "               '2021-10-27 10:00:00', '2021-10-27 11:00:00'],\n",
      "              dtype='datetime64[ns]', freq='H') \n",
      "\n",
      "PeriodIndex(['2021-10', '2021-11', '2021-12', '2022-01', '2022-02', '2022-03',\n",
      "             '2022-04', '2022-05', '2022-06', '2022-07', '2022-08', '2022-09'],\n",
      "            dtype='period[M]', freq='M') \n",
      "\n",
      "TimedeltaIndex(['0 days 00:00:00', '0 days 01:00:00', '0 days 02:00:00',\n",
      "                '0 days 03:00:00', '0 days 04:00:00', '0 days 05:00:00',\n",
      "                '0 days 06:00:00', '0 days 07:00:00', '0 days 08:00:00',\n",
      "                '0 days 09:00:00'],\n",
      "               dtype='timedelta64[ns]', freq='H') \n",
      "\n"
     ]
    }
   ],
   "source": [
    "# 빈도 기반으로 정규 시퀀스 생성하기\n",
    "# 타임스탬프 : pd.date_range()\n",
    "# 기간 : pd.period_range()\n",
    "# 지속기간 : pd.timedelta_range()\n",
    "\n",
    "print(pd.date_range('2021-10-27', '2021-10-31')) # 시작/ 종료 타임스탬프를 이용한 시퀀스 생성\n",
    "print(pd.date_range('2021-10-27', periods=5)) # 시작 타임스탬프, 기간 길이를 이용\n",
    "\n",
    "# 빈도 설정 : 원하는 시간 단위의 시퀀스 생성\n",
    "print(pd.date_range('2021-10-27', periods=12, freq='H'), '\\n')\n",
    "\n",
    "\n",
    "print(pd.period_range('2021-10', periods=12, freq='M'),'\\n')\n",
    "print(pd.timedelta_range(0,periods=10,freq='H'),'\\n')"
   ]
  },
  {
   "cell_type": "code",
   "execution_count": null,
   "metadata": {},
   "outputs": [],
   "source": []
  }
 ],
 "metadata": {
  "kernelspec": {
   "display_name": "Python 3",
   "language": "python",
   "name": "python3"
  },
  "language_info": {
   "codemirror_mode": {
    "name": "ipython",
    "version": 3
   },
   "file_extension": ".py",
   "mimetype": "text/x-python",
   "name": "python",
   "nbconvert_exporter": "python",
   "pygments_lexer": "ipython3",
   "version": "3.8.5"
  }
 },
 "nbformat": 4,
 "nbformat_minor": 4
}
