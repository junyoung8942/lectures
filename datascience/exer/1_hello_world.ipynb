{
 "cells": [
  {
   "cell_type": "code",
   "execution_count": 9,
   "metadata": {},
   "outputs": [
    {
     "name": "stdout",
     "output_type": "stream",
     "text": [
      "hello world!\n",
      "100\n",
      "3.14\n",
      "My name is Jun Young Park student number is 201855001\n"
     ]
    }
   ],
   "source": [
    "print(\"hello world!\")\n",
    "print(100)\n",
    "pi=3.14\n",
    "print(pi)\n",
    "\n",
    "name=\"Jun Young Park\"\n",
    "stNum=\"201855001\"\n",
    "print(\"My name is \"+name+\" student number is \"+stNum)\n"
   ]
  },
  {
   "cell_type": "code",
   "execution_count": 6,
   "metadata": {},
   "outputs": [],
   "source": [
    "user_name=\"Jun Young Park\"\n",
    "user_id=201855001\n",
    "user_favoriteFood=\"fish and chips\"\n",
    "user_grade=2"
   ]
  },
  {
   "cell_type": "code",
   "execution_count": 7,
   "metadata": {},
   "outputs": [],
   "source": [
    "# 집에 있는 세 가지 이상의 사물의 갯수를 정수 변수로 표현하시오\n",
    "notebook=2\n",
    "usb=3\n",
    "computerMouse=3"
   ]
  },
  {
   "cell_type": "code",
   "execution_count": 11,
   "metadata": {},
   "outputs": [],
   "source": [
    "# 본인이 알고있는 세 개의 실수를 변수로 정의하시오.\n",
    "pi=3.14\n",
    "myTall=177.7\n",
    "kospi_index=3125.76"
   ]
  },
  {
   "cell_type": "code",
   "execution_count": null,
   "metadata": {},
   "outputs": [],
   "source": []
  }
 ],
 "metadata": {
  "kernelspec": {
   "display_name": "Python 3",
   "language": "python",
   "name": "python3"
  },
  "language_info": {
   "codemirror_mode": {
    "name": "ipython",
    "version": 3
   },
   "file_extension": ".py",
   "mimetype": "text/x-python",
   "name": "python",
   "nbconvert_exporter": "python",
   "pygments_lexer": "ipython3",
   "version": "3.8.5"
  }
 },
 "nbformat": 4,
 "nbformat_minor": 4
}
