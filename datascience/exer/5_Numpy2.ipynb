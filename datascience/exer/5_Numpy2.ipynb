{
 "cells": [
  {
   "cell_type": "code",
   "execution_count": 2,
   "metadata": {},
   "outputs": [
    {
     "name": "stdout",
     "output_type": "stream",
     "text": [
      "[0 1 2]\n",
      "[3 4 5 6 7 8]\n",
      "[3 5 7]\n"
     ]
    }
   ],
   "source": [
    "# np.arange(start, stop(필수), step) : 특정 범위의 정수 배열 생성\n",
    "import numpy as np\n",
    "a1 = np.arange(3) # [0, 3)\n",
    "a2 = np.arange(3, 9) # [3, 9)\n",
    "a3 = np.arange(3, 9, 2)\n",
    "print(a1)\n",
    "print(a2)\n",
    "print(a3)"
   ]
  },
  {
   "cell_type": "code",
   "execution_count": 14,
   "metadata": {},
   "outputs": [
    {
     "name": "stdout",
     "output_type": "stream",
     "text": [
      "[5 8 9 5 0 0]\n",
      "[[1 7 6 9]\n",
      " [2 4 5 2]\n",
      " [4 2 4 7]]\n",
      "[[[7 9 1 7 0]\n",
      "  [6 9 9 7 6]\n",
      "  [9 1 0 1 8]\n",
      "  [8 3 9 8 7]]\n",
      "\n",
      " [[3 6 5 1 9]\n",
      "  [3 4 8 1 4]\n",
      "  [0 3 9 2 0]\n",
      "  [4 9 2 7 7]]\n",
      "\n",
      " [[9 8 6 9 3]\n",
      "  [7 7 4 5 9]\n",
      "  [3 6 8 0 2]\n",
      "  [7 7 9 7 3]]]\n"
     ]
    }
   ],
   "source": [
    "# np.random.seed(num) : 똑같은 난수 배열 생성을 위한 시드 값\n",
    "# np.random.randint(high, size) : 정수로 구성된 난수 배열 생성\n",
    "# np.random.seed(0) # 있으면 계속해서 같은 값이 나옴\n",
    "arr1 = np.random.randint(10, size = 6)\n",
    "print(arr1)\n",
    "arr2 = np.random.randint(10, size = (3,4))\n",
    "print(arr2)\n",
    "arr3 = np.random.randint(10, size = (3, 4, 5))\n",
    "print(arr3)"
   ]
  },
  {
   "cell_type": "code",
   "execution_count": 19,
   "metadata": {},
   "outputs": [
    {
     "name": "stdout",
     "output_type": "stream",
     "text": [
      "[[1 7 6 9]\n",
      " [2 4 5 2]\n",
      " [4 2 4 7]]\n",
      "arr2.ndim =  2\n",
      "arr2.shape =  (3, 4)\n",
      "arr2.size =  12\n",
      "arr2.dtype =  int32\n",
      "arr2.itemsize =  4\n",
      "arr2.nbytes =  48\n"
     ]
    }
   ],
   "source": [
    "# arr.ndim : 차원 개수\n",
    "# arr.shape : 배열 차원 크기\n",
    "# arr.size : 전체 배열 크기\n",
    "# arr.dtype : 배열 데이터 타입\n",
    "# arr.itemsize : 배열 원소 별 메모리 크기\n",
    "# arr.nbytes : 전체 배열 메모리 크기\n",
    "print(arr2)\n",
    "\n",
    "print(\"arr2.ndim = \", arr2.ndim)\n",
    "print(\"arr2.shape = \", arr2.shape) # 자주 사용\n",
    "print(\"arr2.size = \", arr2.size) # 자주 사용\n",
    "\n",
    "print(\"arr2.dtype = \", arr2.dtype) # 자주 사용\n",
    "print(\"arr2.itemsize = \", arr2.itemsize)\n",
    "print(\"arr2.nbytes = \", arr2.nbytes)"
   ]
  },
  {
   "cell_type": "code",
   "execution_count": 27,
   "metadata": {},
   "outputs": [
    {
     "name": "stdout",
     "output_type": "stream",
     "text": [
      "[0 1 2 3 4 5 6 7 8 9]\n",
      "[3 4 5 6]\n",
      "[0 1 2 3 4]\n",
      "[0 3 6 9]\n",
      "[2 4 6]\n",
      "[[5 0 3 3 7 9 3 5]\n",
      " [2 4 7 6 8 8 1 6]\n",
      " [7 7 8 1 5 9 8 9]\n",
      " [4 3 0 3 5 0 2 3]\n",
      " [8 1 3 3 3 7 0 1]\n",
      " [9 9 0 4 7 3 2 7]] \n",
      "\n",
      "[[5 0 2]\n",
      " [3 7 0]]\n",
      "[[5 8 9 5]\n",
      " [0 0 1 7]\n",
      " [6 9 2 4]] \n",
      "\n",
      "[[5 8]\n",
      " [0 0]]\n",
      "[[99  8]\n",
      " [ 0  0]]\n"
     ]
    }
   ],
   "source": [
    "# 배열 슬라이싱 \n",
    "# arr[start:stop:step]\n",
    "arr = np.arange(10)\n",
    "print(arr)\n",
    "\n",
    "print(arr[3:7])\n",
    "print(arr[:5])\n",
    "print(arr[::3])\n",
    "print(arr[2:8:2])\n",
    "\n",
    "# 다차원 배열 슬라이싱\n",
    "# arr[start1:stop1:step1, start2:stop2:step2]\n",
    "np.random.seed(0)\n",
    "arr = np.random.randint(10,size = (6, 8))\n",
    "print(arr,\"\\n\")\n",
    "print(arr[3:5, 4:7])"
   ]
  },
  {
   "cell_type": "code",
   "execution_count": 29,
   "metadata": {},
   "outputs": [
    {
     "name": "stdout",
     "output_type": "stream",
     "text": [
      "[[5 8 9 5]\n",
      " [0 0 1 7]\n",
      " [6 9 2 4]] \n",
      "\n",
      "[[5 8]\n",
      " [0 0]] \n",
      "\n",
      "[[99  8]\n",
      " [ 0  0]]\n"
     ]
    }
   ],
   "source": [
    "# 슬라이싱은 복사본이 아닌 뷰(view)이다.\n",
    "np.random.seed(1)\n",
    "arr = np.random.randint(10, size = (3, 4))\n",
    "print(arr, '\\n')\n",
    "\n",
    "arr_sub = arr[:2, :2]\n",
    "print(arr_sub, '\\n')\n",
    "\n",
    "arr[0,0] = 99\n",
    "print(arr_sub)"
   ]
  },
  {
   "cell_type": "code",
   "execution_count": 34,
   "metadata": {},
   "outputs": [
    {
     "name": "stdout",
     "output_type": "stream",
     "text": [
      "[[8 7 3 6]\n",
      " [5 1 9 3]] \n",
      "\n",
      "[[8 7]\n",
      " [5 1]] \n",
      "\n",
      "[[99  7  3  6]\n",
      " [ 5  1  9  3]] \n",
      "\n",
      "[[8 7]\n",
      " [5 1]]\n"
     ]
    }
   ],
   "source": [
    "# arr.copy() : 배열 복사본 생성\n",
    "arr = np.random.randint(10, size = (2,4))\n",
    "print(arr, '\\n')\n",
    "\n",
    "arr_copy = arr[:2, :2].copy()\n",
    "print(arr_copy, '\\n')\n",
    "\n",
    "arr[0, 0] = 99\n",
    "print(arr, '\\n')\n",
    "print(arr_copy)"
   ]
  },
  {
   "cell_type": "code",
   "execution_count": 44,
   "metadata": {},
   "outputs": [
    {
     "name": "stdout",
     "output_type": "stream",
     "text": [
      "[1 2 3 4 5 6 7 8 9]\n",
      "[1 2 3 4 5 6 7 8 9]\n"
     ]
    }
   ],
   "source": [
    "# arr.reshape() : 배열의 형상 변경 메서드\n",
    "# 변경 전/후의 배열 크기가 동일해야 함\n",
    "arr = np.arange(1, 10)\n",
    "print(arr)\n",
    "arr.reshape(3,3)\n",
    "print(arr)"
   ]
  },
  {
   "cell_type": "code",
   "execution_count": 37,
   "metadata": {},
   "outputs": [
    {
     "name": "stdout",
     "output_type": "stream",
     "text": [
      "[0 1 2] \n",
      "\n",
      "[[0 1 2]] \n",
      "\n",
      "[[0]\n",
      " [1]\n",
      " [2]] \n",
      "\n"
     ]
    }
   ],
   "source": [
    "# np.newaxis : 차원을 추가함\n",
    "arr = np.arange(3)\n",
    "print(arr, '\\n')\n",
    "arr_new = arr[np.newaxis, :]\n",
    "print(arr_new, '\\n')\n",
    "arr_new = arr[:, np.newaxis]\n",
    "print(arr_new, '\\n')"
   ]
  },
  {
   "cell_type": "code",
   "execution_count": 52,
   "metadata": {},
   "outputs": [
    {
     "name": "stdout",
     "output_type": "stream",
     "text": [
      "[1 2 3 4 5 6 7 8 9] \n",
      "\n",
      "[[1 2 3]\n",
      " [4 5 6]\n",
      " [7 8 9]] \n",
      "\n"
     ]
    }
   ],
   "source": [
    "# np.concatenate() : 붙이기\n",
    "# np.vstack() : 종 방향으로 배열 연결\n",
    "# np.hstack() : 횡 방향으로 배열 연결\n",
    "arr_1 = np.array([1, 2, 3])\n",
    "arr_2 = np.array([4, 5, 6])\n",
    "arr_3 = np.array([7, 8, 9])\n",
    "\n",
    "arr_total = np.concatenate([arr_1, arr_2, arr_3])\n",
    "print(arr_total, '\\n')\n",
    "\n",
    "arr_total = np.vstack([arr_1, arr_2, arr_3])\n",
    "print(arr_total, '\\n')"
   ]
  },
  {
   "cell_type": "code",
   "execution_count": 56,
   "metadata": {},
   "outputs": [
    {
     "name": "stdout",
     "output_type": "stream",
     "text": [
      "[ 1  2  3 99 99  3  2  1]\n",
      "[1 2 3] [99 99] [3 2 1]\n"
     ]
    }
   ],
   "source": [
    "# np.split() : 배열 분할 메서드\n",
    "# np.vsplit() \n",
    "# np.hsplit()\n",
    "arr = np.array([1, 2, 3, 99, 99, 3, 2, 1])\n",
    "print(arr)\n",
    "\n",
    "arr_1, arr_2, arr_3 = np.split(arr, [3,5])\n",
    "print(arr_1, arr_2, arr_3)"
   ]
  },
  {
   "cell_type": "code",
   "execution_count": null,
   "metadata": {},
   "outputs": [],
   "source": []
  }
 ],
 "metadata": {
  "kernelspec": {
   "display_name": "Python 3",
   "language": "python",
   "name": "python3"
  },
  "language_info": {
   "codemirror_mode": {
    "name": "ipython",
    "version": 3
   },
   "file_extension": ".py",
   "mimetype": "text/x-python",
   "name": "python",
   "nbconvert_exporter": "python",
   "pygments_lexer": "ipython3",
   "version": "3.8.5"
  }
 },
 "nbformat": 4,
 "nbformat_minor": 4
}
