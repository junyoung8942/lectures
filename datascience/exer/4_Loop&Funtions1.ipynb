{
 "cells": [
  {
   "cell_type": "code",
   "execution_count": 1,
   "metadata": {},
   "outputs": [
    {
     "name": "stdout",
     "output_type": "stream",
     "text": [
      "4\n",
      "3\n",
      "2\n",
      "5\n",
      "1\n",
      "0\n",
      "1\n",
      "2\n",
      "3\n",
      "4\n"
     ]
    },
    {
     "data": {
      "text/plain": [
       "5"
      ]
     },
     "execution_count": 1,
     "metadata": {},
     "output_type": "execute_result"
    }
   ],
   "source": [
    "# loop\n",
    "nums = [4, 3, 2, 5, 1]\n",
    "for num in nums :\n",
    "    print(num)\n",
    "\n",
    "for i in range(5) :\n",
    "    print(i)\n",
    "# len() : 리스트의 index를 새는 함수\n",
    "len(nums)"
   ]
  },
  {
   "cell_type": "code",
   "execution_count": 15,
   "metadata": {},
   "outputs": [
    {
     "name": "stdout",
     "output_type": "stream",
     "text": [
      "1\n",
      "2\n",
      "4\n",
      "5\n",
      "2\n"
     ]
    }
   ],
   "source": [
    "# continue\n",
    "nums = [1, 2, -1, 4, -5, 5, 2, -9]\n",
    "for num in nums :\n",
    "    if num < 0 :\n",
    "        continue\n",
    "    print(num)"
   ]
  },
  {
   "cell_type": "code",
   "execution_count": 19,
   "metadata": {},
   "outputs": [
    {
     "name": "stdout",
     "output_type": "stream",
     "text": [
      "[1, 2, 3, 4, 5, 6, 7, 8, 9, 10]\n",
      "[1, 4, 2, 6, 5, 9]\n"
     ]
    }
   ],
   "source": [
    "# 리스트 컴프리헨션\n",
    "# result = [expression for item in list]\n",
    "one_to_ten = [i+1 for i in range(10)]\n",
    "print(one_to_ten)\n",
    "\n",
    "a = [1,4,2,6,5,9]\n",
    "random = [i for i in a]\n",
    "print(random)"
   ]
  },
  {
   "cell_type": "code",
   "execution_count": 1,
   "metadata": {},
   "outputs": [
    {
     "name": "stdout",
     "output_type": "stream",
     "text": [
      "['헤리 케인', '탐기 은돔벨레']\n"
     ]
    }
   ],
   "source": [
    "hotspur = [['손흥민', 'A+'], ['헤리 케인', 'F'], ['탐기 은돔벨레', 'F'], ['델리 알리', 'B']]\n",
    "poors = [player[0] for player in hotspur if player[1]=='F']\n",
    "print(poors)"
   ]
  },
  {
   "cell_type": "code",
   "execution_count": null,
   "metadata": {},
   "outputs": [],
   "source": []
  }
 ],
 "metadata": {
  "kernelspec": {
   "display_name": "Python 3",
   "language": "python",
   "name": "python3"
  },
  "language_info": {
   "codemirror_mode": {
    "name": "ipython",
    "version": 3
   },
   "file_extension": ".py",
   "mimetype": "text/x-python",
   "name": "python",
   "nbconvert_exporter": "python",
   "pygments_lexer": "ipython3",
   "version": "3.8.5"
  }
 },
 "nbformat": 4,
 "nbformat_minor": 4
}
